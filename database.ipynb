{
 "cells": [
  {
   "cell_type": "code",
   "execution_count": 2,
   "id": "f6ee08ed",
   "metadata": {},
   "outputs": [],
   "source": [
    "import sqlite3\n",
    "\n",
    "conn = sqlite3.connect(\"sales.db\")\n",
    "cursor = conn.cursor()\n",
    "\n",
    "cursor.execute(\"DROP TABLE IF EXISTS sales\")\n",
    "cursor.execute(\"\"\"\n",
    "CREATE TABLE sales (\n",
    "    id INTEGER PRIMARY KEY AUTOINCREMENT,\n",
    "    region TEXT,\n",
    "    product TEXT,\n",
    "    revenue INTEGER\n",
    ")\n",
    "\"\"\")\n",
    "\n",
    "data = [\n",
    "    (\"North\", \"Apples\", 1200),\n",
    "    (\"South\", \"Oranges\", 900),\n",
    "    (\"East\", \"Bananas\", 600),\n",
    "    (\"West\", \"Mangoes\", 1500),\n",
    "    (\"North\", \"Mangoes\", 1100),\n",
    "    (\"South\", \"Apples\", 700),\n",
    "]\n",
    "\n",
    "cursor.executemany(\"INSERT INTO sales (region, product, revenue) VALUES (?, ?, ?)\", data)\n",
    "conn.commit()\n",
    "conn.close()"
   ]
  },
  {
   "cell_type": "code",
   "execution_count": 3,
   "id": "6fad5213",
   "metadata": {},
   "outputs": [
    {
     "name": "stdout",
     "output_type": "stream",
     "text": [
      "Tables: [('sqlite_sequence',), ('sales',)]\n",
      "\n",
      "Table: sqlite_sequence\n",
      "name - \n",
      "seq - \n",
      "\n",
      "Table: sales\n",
      "id - INTEGER\n",
      "region - TEXT\n",
      "product - TEXT\n",
      "revenue - INTEGER\n"
     ]
    }
   ],
   "source": [
    "import sqlite3\n",
    "\n",
    "conn = sqlite3.connect(\"sales.db\")\n",
    "cursor = conn.cursor()\n",
    "\n",
    "# List all tables\n",
    "cursor.execute(\"SELECT name FROM sqlite_master WHERE type='table';\")\n",
    "tables = cursor.fetchall()\n",
    "print(\"Tables:\", tables)\n",
    "\n",
    "# Show columns for each table\n",
    "for t in tables:\n",
    "    t_name = t[0]\n",
    "    cursor.execute(f\"PRAGMA table_info({t_name});\")\n",
    "    cols = cursor.fetchall()\n",
    "    print(f\"\\nTable: {t_name}\")\n",
    "    for col in cols:\n",
    "        print(col[1], \"-\", col[2])  # col[1]=name, col[2]=type\n",
    "\n",
    "conn.close()\n"
   ]
  },
  {
   "cell_type": "code",
   "execution_count": null,
   "id": "d9abac75",
   "metadata": {},
   "outputs": [],
   "source": []
  }
 ],
 "metadata": {
  "kernelspec": {
   "display_name": "base",
   "language": "python",
   "name": "python3"
  },
  "language_info": {
   "codemirror_mode": {
    "name": "ipython",
    "version": 3
   },
   "file_extension": ".py",
   "mimetype": "text/x-python",
   "name": "python",
   "nbconvert_exporter": "python",
   "pygments_lexer": "ipython3",
   "version": "3.13.5"
  }
 },
 "nbformat": 4,
 "nbformat_minor": 5
}
